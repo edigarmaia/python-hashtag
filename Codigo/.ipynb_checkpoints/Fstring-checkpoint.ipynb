{
 "cells": [
  {
   "cell_type": "markdown",
   "id": "8e1c401a",
   "metadata": {},
   "source": [
    "## F-string"
   ]
  },
  {
   "cell_type": "code",
   "execution_count": 6,
   "id": "73ee9769",
   "metadata": {},
   "outputs": [
    {
     "name": "stdout",
     "output_type": "stream",
     "text": [
      "O faturamento da loja foi R$ 2000.00. O custo da loja foi R$ 500.00 e o lucro foi R$ 1500.00\n",
      "\n",
      "O faturamento da loja foi R$ 2000.00. O custo da loja foi R$ 500.00 e o lucro foi R$ 1500.00\n"
     ]
    }
   ],
   "source": [
    "# Com Format\n",
    "faturamento = 2000\n",
    "custo = 500\n",
    "lucro = faturamento - custo\n",
    "print('O faturamento da loja foi R$ {:.2f}. O custo da loja foi R$ {:.2f} e o lucro foi R$ {:.2f}'.format(faturamento, custo, lucro))\n",
    "\n",
    "# Com F-string\n",
    "print('')\n",
    "print(f'O faturamento da loja foi R$ {faturamento:.2f}. O custo da loja foi R$ {custo:.2f} e o lucro foi R$ {lucro:.2f}')\n"
   ]
  },
  {
   "cell_type": "code",
   "execution_count": null,
   "id": "8a7d0768",
   "metadata": {},
   "outputs": [],
   "source": []
  }
 ],
 "metadata": {
  "kernelspec": {
   "display_name": "Python 3 (ipykernel)",
   "language": "python",
   "name": "python3"
  },
  "language_info": {
   "codemirror_mode": {
    "name": "ipython",
    "version": 3
   },
   "file_extension": ".py",
   "mimetype": "text/x-python",
   "name": "python",
   "nbconvert_exporter": "python",
   "pygments_lexer": "ipython3",
   "version": "3.11.5"
  }
 },
 "nbformat": 4,
 "nbformat_minor": 5
}
