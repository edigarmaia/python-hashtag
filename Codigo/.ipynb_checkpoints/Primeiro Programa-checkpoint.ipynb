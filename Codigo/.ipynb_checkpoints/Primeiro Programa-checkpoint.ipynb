{
 "cells": [
  {
   "cell_type": "code",
   "execution_count": 10,
   "id": "11556c5c",
   "metadata": {},
   "outputs": [
    {
     "name": "stdout",
     "output_type": "stream",
     "text": [
      "Olá mundo!\n"
     ]
    }
   ],
   "source": [
    "print('Olá mundo!')"
   ]
  },
  {
   "cell_type": "code",
   "execution_count": 11,
   "id": "da524c0a",
   "metadata": {},
   "outputs": [
    {
     "name": "stdout",
     "output_type": "stream",
     "text": [
      "True\n"
     ]
    }
   ],
   "source": [
    "print('i' in 'Edigar')"
   ]
  },
  {
   "cell_type": "code",
   "execution_count": 12,
   "id": "d2d7d59a",
   "metadata": {},
   "outputs": [
    {
     "name": "stdout",
     "output_type": "stream",
     "text": [
      "1500\n"
     ]
    }
   ],
   "source": [
    "qtde_vendas = 1500\n",
    "print(qtde_vendas)"
   ]
  },
  {
   "cell_type": "code",
   "execution_count": 13,
   "id": "3e81b955",
   "metadata": {},
   "outputs": [],
   "source": [
    "faturamento = 200\n",
    "custo = 60"
   ]
  },
  {
   "cell_type": "code",
   "execution_count": 14,
   "id": "044ed9f6",
   "metadata": {},
   "outputs": [
    {
     "name": "stdout",
     "output_type": "stream",
     "text": [
      "140\n"
     ]
    }
   ],
   "source": [
    "lucro = faturamento - custo\n",
    "print(lucro)"
   ]
  },
  {
   "cell_type": "code",
   "execution_count": 17,
   "id": "c0a60aa1",
   "metadata": {},
   "outputs": [
    {
     "name": "stdout",
     "output_type": "stream",
     "text": [
      "Qual o seu nome? Edigar\n",
      "Qual seu sobrenome? Maia\n",
      "Edigar Maia\n"
     ]
    }
   ],
   "source": [
    "nome = input('Qual o seu nome? ')\n",
    "sobrenome = input('Qual seu sobrenome? ')\n",
    "print(nome + ' ' + sobrenome)"
   ]
  },
  {
   "cell_type": "code",
   "execution_count": 45,
   "id": "4422f028",
   "metadata": {
    "scrolled": true
   },
   "outputs": [
    {
     "name": "stdout",
     "output_type": "stream",
     "text": [
      "4\n",
      "Explorador: 1 passo\n",
      "Explorador: 2 passos\n",
      "Explorador: 3 passos\n",
      "Explorador: 4 passos\n"
     ]
    }
   ],
   "source": [
    "quantidade_passos = int(input())\n",
    "\n",
    "msg = \"Explorador: 1 passo\"\n",
    "\n",
    "if quantidade_passos > 1:\n",
    "    print(msg)\n",
    "    for item in range(1, quantidade_passos):\n",
    "        print(\"Explorador: {} passos\".format(item + 1))\n",
    "elif quantidade_passos == 1:\n",
    "    print(msg)\n",
    "else:\n",
    "    print(\"Nenhum passo dado na floresta.\")"
   ]
  },
  {
   "cell_type": "code",
   "execution_count": null,
   "id": "6120594e",
   "metadata": {},
   "outputs": [],
   "source": []
  },
  {
   "cell_type": "code",
   "execution_count": null,
   "id": "7ef8266a",
   "metadata": {},
   "outputs": [],
   "source": []
  }
 ],
 "metadata": {
  "kernelspec": {
   "display_name": "Python 3 (ipykernel)",
   "language": "python",
   "name": "python3"
  },
  "language_info": {
   "codemirror_mode": {
    "name": "ipython",
    "version": 3
   },
   "file_extension": ".py",
   "mimetype": "text/x-python",
   "name": "python",
   "nbconvert_exporter": "python",
   "pygments_lexer": "ipython3",
   "version": "3.11.5"
  }
 },
 "nbformat": 4,
 "nbformat_minor": 5
}
