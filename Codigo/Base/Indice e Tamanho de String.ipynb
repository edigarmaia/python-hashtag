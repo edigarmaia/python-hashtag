{
 "cells": [
  {
   "cell_type": "raw",
   "metadata": {},
   "source": [
    "0 1 2 3 4 5 6 7 8 9 10 11 12 13\n",
    "l i r a @ g m a i l  .  c  o m\n",
    "\n",
    "Pegar um item de uma string: texto[índice]\n",
    "Pegar o tamanho de um texto: len(texto)"
   ]
  },
  {
   "cell_type": "code",
   "execution_count": 4,
   "metadata": {},
   "outputs": [
    {
     "name": "stdout",
     "output_type": "stream",
     "text": [
      "14\n",
      "9\n",
      "l\n",
      "a\n"
     ]
    }
   ],
   "source": [
    "email = 'lira@gmail.com'\n",
    "nome = 'João Lira'\n",
    "\n",
    "print(len(email))\n",
    "print(len(nome))\n",
    "\n",
    "print(email[0])\n",
    "print(nome[-1])"
   ]
  },
  {
   "cell_type": "code",
   "execution_count": 32,
   "metadata": {},
   "outputs": [
    {
     "name": "stdout",
     "output_type": "stream",
     "text": [
      "100 20\n",
      "120\n"
     ]
    }
   ],
   "source": [
    "import math\n",
    "capacidade_atual, aumento_percentual = map(int, input().split())\n",
    "\n",
    "#/ TODO: Calcule a nova capacidade do disco de Mithril\n",
    "capacidade_atual =  capacidade_atual + (capacidade_atual * aumento_percentual / 100)\n",
    "print(int(capacidade_atual))\n",
    "\n",
    "# TODO: Imprima a nova capacidade"
   ]
  },
  {
   "cell_type": "code",
   "execution_count": 27,
   "metadata": {},
   "outputs": [
    {
     "name": "stdout",
     "output_type": "stream",
     "text": [
      "Informe um ítem: a\n",
      "Informe um ítem: b\n",
      "Informe um ítem: c\n",
      "Lista de itens:\n",
      "- a\n",
      "- b\n",
      "- c\n"
     ]
    }
   ],
   "source": [
    "# Lista para armazenar os itens\n",
    "itens = []\n",
    "\n",
    "for i in range(3):\n",
    "  i = input('Informe um ítem: ')\n",
    "  itens.append(i)\n",
    "\n",
    "\n",
    "# Exibe a lista de itens\n",
    "print(\"Lista de itens:\")\n",
    "for item in itens:\n",
    "    print(f\"- {item}\")"
   ]
  },
  {
   "cell_type": "code",
   "execution_count": null,
   "metadata": {},
   "outputs": [],
   "source": []
  }
 ],
 "metadata": {
  "kernelspec": {
   "display_name": "Python 3 (ipykernel)",
   "language": "python",
   "name": "python3"
  },
  "language_info": {
   "codemirror_mode": {
    "name": "ipython",
    "version": 3
   },
   "file_extension": ".py",
   "mimetype": "text/x-python",
   "name": "python",
   "nbconvert_exporter": "python",
   "pygments_lexer": "ipython3",
   "version": "3.11.5"
  }
 },
 "nbformat": 4,
 "nbformat_minor": 4
}
