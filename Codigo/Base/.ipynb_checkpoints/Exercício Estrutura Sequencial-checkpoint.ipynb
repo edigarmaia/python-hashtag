{
 "cells": [
  {
   "cell_type": "markdown",
   "id": "bb0f9514",
   "metadata": {
    "id": "bb0f9514"
   },
   "source": [
    "# Lista de Estrutura Sequencial"
   ]
  },
  {
   "cell_type": "markdown",
   "id": "4e7a8c30",
   "metadata": {
    "id": "4e7a8c30"
   },
   "source": [
    "#### 1. Faça um Programa que mostre a mensagem (print) \"Alo mundo\" na tela."
   ]
  },
  {
   "cell_type": "code",
   "execution_count": 2,
   "id": "883bfe85",
   "metadata": {
    "id": "883bfe85",
    "scrolled": true
   },
   "outputs": [
    {
     "name": "stdout",
     "output_type": "stream",
     "text": [
      "Alo mundo\n"
     ]
    }
   ],
   "source": [
    "print('Alo mundo')"
   ]
  },
  {
   "cell_type": "markdown",
   "id": "71d6d6a2",
   "metadata": {
    "id": "71d6d6a2"
   },
   "source": [
    "#### 2. Faça um Programa que peça um número (input) e então mostre a mensagem: \"O número informado foi [número].\""
   ]
  },
  {
   "cell_type": "code",
   "execution_count": 3,
   "id": "30cfffcf",
   "metadata": {
    "id": "30cfffcf"
   },
   "outputs": [
    {
     "name": "stdout",
     "output_type": "stream",
     "text": [
      "Informe um número: 5\n",
      "O número informado foi 5\n"
     ]
    }
   ],
   "source": [
    "numero = int(input('Informe um número: '))\n",
    "print(f'O número informado foi {numero}')"
   ]
  },
  {
   "cell_type": "markdown",
   "id": "c5e43160",
   "metadata": {
    "id": "c5e43160"
   },
   "source": [
    "#### 3. Faça um Programa que peça dois números e imprima a soma."
   ]
  },
  {
   "cell_type": "code",
   "execution_count": 5,
   "id": "b0e79590",
   "metadata": {
    "id": "b0e79590"
   },
   "outputs": [
    {
     "name": "stdout",
     "output_type": "stream",
     "text": [
      "Informe um número: 5\n",
      "Informe outro número: 7\n",
      "A soma de 5 + 7 é = 12\n"
     ]
    }
   ],
   "source": [
    "num1 = int(input('Informe um número: '))\n",
    "num2 = int(input('Informe outro número: '))\n",
    "soma = num1 + num2\n",
    "print(f'A soma de {num1} + {num2} é = {soma}')"
   ]
  },
  {
   "cell_type": "markdown",
   "id": "17826987",
   "metadata": {
    "id": "17826987"
   },
   "source": [
    "#### 4. Faça um Programa que peça as 4 notas bimestrais de um aluno e mostre a média de todas as notas."
   ]
  },
  {
   "cell_type": "code",
   "execution_count": 6,
   "id": "23b66762",
   "metadata": {
    "id": "23b66762"
   },
   "outputs": [
    {
     "name": "stdout",
     "output_type": "stream",
     "text": [
      "Informe a nota 1: 10\n",
      "Informe a nota 2: 5\n",
      "Informe a nota 3: 5\n",
      "Informe a nota 4: 8\n",
      "A média do aluno é: 7.0\n"
     ]
    }
   ],
   "source": [
    "n1 = float(input('Informe a nota 1: '))\n",
    "n2 = float(input('Informe a nota 2: '))\n",
    "n3 = float(input('Informe a nota 3: '))\n",
    "n4 = float(input('Informe a nota 4: '))\n",
    "media = (n1 + n2 + n3 + n4) / 4\n",
    "print('A média do aluno é: {}'.format(media))"
   ]
  },
  {
   "cell_type": "markdown",
   "id": "62d461c5",
   "metadata": {
    "id": "62d461c5"
   },
   "source": [
    "#### 5. Faça um Programa que converta metros para centímetros. Você pode pedir o comprimento em metros para o usuário (input)."
   ]
  },
  {
   "cell_type": "code",
   "execution_count": 11,
   "id": "d642f1ba",
   "metadata": {
    "id": "d642f1ba",
    "scrolled": true
   },
   "outputs": [
    {
     "name": "stdout",
     "output_type": "stream",
     "text": [
      "Informe uma medida em metros: 1\n",
      "1.0m equivale a 100.0cm\n"
     ]
    }
   ],
   "source": [
    "metro = float(input('Informe uma medida em metros: '))\n",
    "cm = metro * 100\n",
    "print('{}m equivale a {}cm'.format(metro, cm))"
   ]
  },
  {
   "cell_type": "markdown",
   "id": "f1311697",
   "metadata": {
    "id": "f1311697"
   },
   "source": [
    "#### 6. Faça um Programa que calcule a área de uma sala de um apartamento. Para isso, o seu programa precisa pedir a largura da sala, o comprimento da sala e imprimir a área em m² da sala."
   ]
  },
  {
   "cell_type": "code",
   "execution_count": 12,
   "id": "612ea24b",
   "metadata": {
    "id": "612ea24b"
   },
   "outputs": [
    {
     "name": "stdout",
     "output_type": "stream",
     "text": [
      "Informe a largura da sala: 2\n",
      "Informe o comprimento da sala: 2\n",
      "A área é 4.0m²\n"
     ]
    }
   ],
   "source": [
    "largura = float(input('Informe a largura da sala: '))\n",
    "comprimento = float(input('Informe o comprimento da sala: '))\n",
    "area = largura * comprimento\n",
    "print('A área é {}m²'.format(area))"
   ]
  },
  {
   "cell_type": "markdown",
   "id": "2a285929",
   "metadata": {
    "id": "2a285929"
   },
   "source": [
    "#### 7. Faça um Programa que pergunte quanto você ganha por hora e o número de horas trabalhadas no mês. Calcule e mostre o total do seu salário no referido mês."
   ]
  },
  {
   "cell_type": "code",
   "execution_count": 13,
   "id": "359e2232",
   "metadata": {
    "id": "359e2232"
   },
   "outputs": [
    {
     "name": "stdout",
     "output_type": "stream",
     "text": [
      "Quanto você ganha por hora?5\n",
      "Quantas horas você trabalha no mês? 30\n",
      "O salário no mês referido é R$ 150.00\n"
     ]
    }
   ],
   "source": [
    "valor_hora = float(input('Quanto você ganha por hora?'))\n",
    "horas_trabalhadas = float(input('Quantas horas você trabalha no mês? '))\n",
    "salario = valor_hora * horas_trabalhadas\n",
    "print(f'O salário no mês referido é R$ {salario:.2f}')"
   ]
  },
  {
   "cell_type": "markdown",
   "id": "7e2d4615",
   "metadata": {
    "id": "7e2d4615"
   },
   "source": [
    "#### 8. Vamos criar um conversor de temperatura. Faça um Programa que peça a temperatura em graus Fahrenheit, transforme e mostre a temperatura em graus Celsius.\n",
    "$C = \\frac{5}{9}(F-32)$"
   ]
  },
  {
   "cell_type": "code",
   "execution_count": 18,
   "id": "82daf9fd",
   "metadata": {
    "id": "82daf9fd"
   },
   "outputs": [
    {
     "name": "stdout",
     "output_type": "stream",
     "text": [
      "Informe a temperatura em °F: 100\n",
      "100.0°F equivale a 37.8°C\n"
     ]
    }
   ],
   "source": [
    "f = float(input('Informe a temperatura em °F: ' ))\n",
    "c = (f - 32) * (5/9)\n",
    "print('{}°F equivale a {:.1f}°C'.format(f, c))"
   ]
  },
  {
   "cell_type": "markdown",
   "id": "20708b1c",
   "metadata": {
    "id": "20708b1c"
   },
   "source": [
    "#### 9. Faça um Programa que peça a temperatura em graus Celsius, transforme e mostre em graus Fahrenheit.\n",
    "$F = \\frac{9}{5}C + 32$"
   ]
  },
  {
   "cell_type": "code",
   "execution_count": 19,
   "id": "c73cfb38",
   "metadata": {
    "id": "c73cfb38"
   },
   "outputs": [
    {
     "name": "stdout",
     "output_type": "stream",
     "text": [
      "Informe a temperatura em °C: 37.8\n",
      "37.8°C equivale a 100.0°F\n"
     ]
    }
   ],
   "source": [
    "c = float(input('Informe a temperatura em °C: ' ))\n",
    "f = (9 / 5) * c + 32\n",
    "print('{}°C equivale a {:.1f}°F'.format(c, f))"
   ]
  },
  {
   "cell_type": "markdown",
   "id": "b263a9dc",
   "metadata": {
    "id": "b263a9dc"
   },
   "source": [
    "#### 10. Tendo como dados de entrada a altura (h) de uma pessoa, construa um algoritmo que calcule seu peso ideal, usando a seguinte fórmula:\n",
    "$P = 72,7h - 58$\n",
    "\n",
    "Lembrando que \"algoritmo\" nada mais é do que um programa, como todos os outros que você vem fazendo"
   ]
  },
  {
   "cell_type": "code",
   "execution_count": 22,
   "id": "9a9b8dca",
   "metadata": {
    "id": "9a9b8dca"
   },
   "outputs": [
    {
     "name": "stdout",
     "output_type": "stream",
     "text": [
      "Informe sua altura: 1.75\n",
      "Uma pessoa com altura de 1.75m o seu peso ideal é 69.23kg\n"
     ]
    }
   ],
   "source": [
    "altura = float(input('Informe sua altura: '))\n",
    "peso_ideal = (72.7 * altura) - 58\n",
    "print('Uma pessoa com altura de {}m o seu peso ideal é {:.2f}kg'.format(altura, peso_ideal))"
   ]
  },
  {
   "cell_type": "markdown",
   "id": "13bb40d7",
   "metadata": {
    "id": "13bb40d7"
   },
   "source": [
    "#### 11. Tendo como dado de entrada a altura (h) de uma pessoa, construa um algoritmo que calcule seu peso ideal, utilizando as seguintes fórmulas:\n",
    "##### a. Para homens: $P = 72,7h - 58$\n",
    "##### b. Para mulheres: $P = 62,1h - 44,7$"
   ]
  },
  {
   "cell_type": "code",
   "execution_count": 24,
   "id": "bf82dc8c",
   "metadata": {
    "id": "bf82dc8c"
   },
   "outputs": [
    {
     "name": "stdout",
     "output_type": "stream",
     "text": [
      "Informe sua altura: 1.75\n",
      "Com 1.75m de altura, seu peso ideal é: 69.2kg para homem e 64.0kg para mulher\n"
     ]
    }
   ],
   "source": [
    "altura = float(input('Informe sua altura: '))\n",
    "peso_homem = (72.7 * altura) - 58\n",
    "peso_mulher = (62.1 * altura) -44.7\n",
    "print(f'Com {altura}m de altura, seu peso ideal é: {peso_homem:.1f}kg para homem e {peso_mulher:.1f}kg para mulher')"
   ]
  },
  {
   "cell_type": "markdown",
   "id": "f208ef89",
   "metadata": {
    "id": "f208ef89"
   },
   "source": [
    "#### 12. Faça um Programa que pergunte quanto você ganha por hora e o número de horas trabalhadas no mês."
   ]
  },
  {
   "cell_type": "code",
   "execution_count": 25,
   "id": "2d5b23e0",
   "metadata": {
    "id": "2d5b23e0"
   },
   "outputs": [
    {
     "name": "stdout",
     "output_type": "stream",
     "text": [
      "Quanto você ganha por hora? R$ 1\n",
      "Quantas horas trabalhadas no mês? 30\n"
     ]
    }
   ],
   "source": [
    "valor_hora = float(input('Quanto você ganha por hora? R$ '))\n",
    "horas_trabalhadas = float(input('Quantas horas trabalhadas no mês? '))"
   ]
  },
  {
   "cell_type": "markdown",
   "id": "607dee3c",
   "metadata": {
    "id": "607dee3c"
   },
   "source": [
    "#####  Calcule o salário bruto (horas * salario por hora)"
   ]
  },
  {
   "cell_type": "code",
   "execution_count": 26,
   "id": "7f80ccbb",
   "metadata": {
    "id": "7f80ccbb"
   },
   "outputs": [
    {
     "name": "stdout",
     "output_type": "stream",
     "text": [
      "Salário bruto R$ 30.00\n"
     ]
    }
   ],
   "source": [
    "salario_bruto = horas_trabalhadas * valor_hora\n",
    "print(f'Salário bruto R$ {salario_bruto:.2f}')"
   ]
  },
  {
   "cell_type": "markdown",
   "id": "2ed93cb0",
   "metadata": {
    "id": "2ed93cb0"
   },
   "source": [
    "##### Calcule o desconto do IR (11% do salário bruto)"
   ]
  },
  {
   "cell_type": "code",
   "execution_count": 30,
   "id": "3363e22f",
   "metadata": {
    "id": "3363e22f"
   },
   "outputs": [
    {
     "name": "stdout",
     "output_type": "stream",
     "text": [
      "Imposto de renda = 3.30\n"
     ]
    }
   ],
   "source": [
    "ir = salario_bruto * 0.11\n",
    "print('Desconto imposto de renda = R$ {:.2f}'.format(ir))"
   ]
  },
  {
   "cell_type": "markdown",
   "id": "0994b2c0",
   "metadata": {
    "id": "0994b2c0"
   },
   "source": [
    "##### Calcule o desconto do INSS (8% do salário bruto)"
   ]
  },
  {
   "cell_type": "code",
   "execution_count": 31,
   "id": "748c6088",
   "metadata": {
    "id": "748c6088"
   },
   "outputs": [
    {
     "name": "stdout",
     "output_type": "stream",
     "text": [
      "Desconto INSS R$ 2.40\n"
     ]
    }
   ],
   "source": [
    "inss = salario_bruto * 0.08\n",
    "print('Desconto INSS R$ {:.2f}'.format(inss))"
   ]
  },
  {
   "cell_type": "markdown",
   "id": "06e8dae4",
   "metadata": {
    "id": "06e8dae4"
   },
   "source": [
    "##### Calcule o desconto do sindicato (5% do salário bruto)"
   ]
  },
  {
   "cell_type": "code",
   "execution_count": 34,
   "id": "21b95b15",
   "metadata": {
    "id": "21b95b15",
    "scrolled": true
   },
   "outputs": [
    {
     "name": "stdout",
     "output_type": "stream",
     "text": [
      "Desconto sindicato R$ 1.50\n"
     ]
    }
   ],
   "source": [
    "sindicato = salario_bruto * 0.05\n",
    "print('Desconto sindicato R$ {:.2f}'.format(sindicato))"
   ]
  },
  {
   "cell_type": "markdown",
   "id": "bb14ce36",
   "metadata": {
    "id": "bb14ce36"
   },
   "source": [
    "##### Calcule o salário líquido (salário bruto - descontos)"
   ]
  },
  {
   "cell_type": "code",
   "execution_count": 36,
   "id": "56317086",
   "metadata": {
    "id": "56317086"
   },
   "outputs": [
    {
     "name": "stdout",
     "output_type": "stream",
     "text": [
      "Salário líquido R$ 22.80\n"
     ]
    }
   ],
   "source": [
    "descontos = ir + inss + sindicato\n",
    "salario_liquido = salario_bruto - descontos \n",
    "print('Salário líquido R$ {:.2f}'.format(salario_liquido))"
   ]
  },
  {
   "cell_type": "markdown",
   "id": "cfbfcc87",
   "metadata": {
    "id": "cfbfcc87"
   },
   "source": [
    "#### 13. Faça um programa para uma loja de tintas. O programa deverá pedir o tamanho em metros quadrados da área a ser pintada. Considere que a cobertura da tinta é de 1 litro para cada 3 metros quadrados e que a tinta é vendida em latas de 18 litros, que custam R\\$ 80,00. Informe ao usuário a quantidades de latas de tinta a serem compradas e o preço total. (para simplificação nesse momento, não se preocupe em arredondar a quantidade de latas a serem compradas - vamos trabalhar isso em breve)"
   ]
  },
  {
   "cell_type": "code",
   "execution_count": 42,
   "id": "fb6a083b",
   "metadata": {
    "id": "fb6a083b"
   },
   "outputs": [
    {
     "name": "stdout",
     "output_type": "stream",
     "text": [
      "Informe a área (em m²) a ser pintada: 25\n",
      "Quantidade total de latas a comprar: 0.46296296296296297\n",
      "Preço total da tinta R$ 37.04\n"
     ]
    }
   ],
   "source": [
    "area_em_m2 = float(input('Informe a área (em m²) a ser pintada: '))\n",
    "rendimento_lata = 18 * 3\n",
    "total_latas = area_em_m2 / rendimento_lata\n",
    "preco_total = total_latas * 80\n",
    "print('Quantidade total de latas a comprar: {}'.format(total_latas))\n",
    "print('Preço total da tinta R$ {:.2f}'.format(preco_total))"
   ]
  },
  {
   "cell_type": "markdown",
   "id": "d6503c92",
   "metadata": {
    "id": "d6503c92"
   },
   "source": [
    "#### 14. Faça um programa que peça o tamanho de um arquivo para download (em MB) e a velocidade de um link de Internet (em Mbps), calcule e informe o tempo aproximado de download do arquivo usando este link (em minutos).\n",
    "\n",
    "Detalhe: MB significa megabyte, Mb (com b minúsculo) significa megabit. Um megabit é 1/8 de um megabyte. "
   ]
  },
  {
   "cell_type": "code",
   "execution_count": 45,
   "id": "0563aa62",
   "metadata": {
    "id": "0563aa62"
   },
   "outputs": [
    {
     "name": "stdout",
     "output_type": "stream",
     "text": [
      "Informe o tamanho do arquivo (em MB): 1000\n",
      "Informe a velocidade da sua internet (em Mbps)100\n",
      "O tempo de download é de 1.33 minutos\n"
     ]
    }
   ],
   "source": [
    "tamanho = float(input('Informe o tamanho do arquivo (em MB): '))\n",
    "velocidade = int(input('Informe a velocidade da sua internet (em Mbps)'))\n",
    "\n",
    "megabit = tamanho * 8\n",
    "tempo = megabit / velocidade\n",
    "\n",
    "minutos = tempo / 60\n",
    "\n",
    "print(f'O tempo de download é de {minutos:.2f} minutos')\n"
   ]
  },
  {
   "cell_type": "code",
   "execution_count": null,
   "id": "65c8bdaa",
   "metadata": {},
   "outputs": [],
   "source": []
  }
 ],
 "metadata": {
  "colab": {
   "provenance": []
  },
  "kernelspec": {
   "display_name": "Python 3 (ipykernel)",
   "language": "python",
   "name": "python3"
  },
  "language_info": {
   "codemirror_mode": {
    "name": "ipython",
    "version": 3
   },
   "file_extension": ".py",
   "mimetype": "text/x-python",
   "name": "python",
   "nbconvert_exporter": "python",
   "pygments_lexer": "ipython3",
   "version": "3.11.5"
  }
 },
 "nbformat": 4,
 "nbformat_minor": 5
}
