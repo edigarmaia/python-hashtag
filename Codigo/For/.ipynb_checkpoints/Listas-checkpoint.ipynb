{
 "cells": [
  {
   "cell_type": "markdown",
   "id": "2b04bbea",
   "metadata": {
    "id": "2b04bbea"
   },
   "source": [
    "# Listas\n",
    "\n",
    "<span style=\"color: red;\"><b>Todos os exercícios são feitos partindo-se do pressuposto de que todas as entradas são dadas de forma correta. Casos limite não mencionados no enunciado não são abordados porque não fazem parte do exercício.</b></span>"
   ]
  },
  {
   "cell_type": "markdown",
   "id": "dcb81b29",
   "metadata": {
    "id": "dcb81b29"
   },
   "source": [
    "#### 1. Faça um Programa que leia as vendas dos vendedores, mostre a venda de cada vendedor com o seu nome e a média de vendas. "
   ]
  },
  {
   "cell_type": "code",
   "execution_count": 16,
   "id": "09c0d2b3",
   "metadata": {
    "id": "09c0d2b3"
   },
   "outputs": [
    {
     "name": "stdout",
     "output_type": "stream",
     "text": [
      "O vendedor Fulano vendeu 1000 e teve uma média de 250.0 vendas\n",
      "O vendedor Beltrano vendeu 1500 e teve uma média de 375.0 vendas\n",
      "O vendedor Ciclano vendeu 1200 e teve uma média de 300.0 vendas\n",
      "O vendedor Lira vendeu 1300 e teve uma média de 325.0 vendas\n"
     ]
    }
   ],
   "source": [
    "vendas = [1000, 1500, 1200, 1300]\n",
    "vendedores = [\"Fulano\", \"Beltrano\", \"Ciclano\", \"Lira\"]\n",
    "\n",
    "for i, venda in enumerate(vendas):\n",
    "    print('O vendedor {} vendeu {} e teve uma média de {} vendas'.format(vendedores[i], vendas[i], vendas[i] / len(vendas)))"
   ]
  },
  {
   "cell_type": "markdown",
   "id": "cbda91b3",
   "metadata": {
    "id": "cbda91b3"
   },
   "source": [
    "#### 2. Faça um Programa que crie uma lista com as médias de cada aluno, imprima as médias de cada aluno e a quantidade de alunos com média maior que 7."
   ]
  },
  {
   "cell_type": "code",
   "execution_count": 15,
   "id": "c93dd233",
   "metadata": {
    "id": "c93dd233"
   },
   "outputs": [
    {
     "name": "stdout",
     "output_type": "stream",
     "text": [
      "A média do aluno José foi 8.75\n",
      "A média do aluno Joana foi 6.5\n",
      "A média do aluno Maria foi 10.0\n",
      "A média do aluno Carla foi 6.75\n",
      "A média do aluno Mauricio foi 6.25\n",
      "A média do aluno Andre foi 7.25\n",
      "A média do aluno Tiago foi 7.5\n",
      "A média do aluno Enzo foi 6.5\n",
      "A média do aluno Amanda foi 7.5\n",
      "A média do aluno Alessandra foi 4.25\n",
      "5 alunos tiveram média maior que 7\n"
     ]
    }
   ],
   "source": [
    "alunos = [\"José\", \"Joana\", \"Maria\", \"Carla\", \"Mauricio\", \"Andre\", \"Tiago\", \"Enzo\", \"Amanda\", \"Alessandra\"]\n",
    "notas = [\n",
    "    [10, 9, 8, 8],\n",
    "    [9, 7, 6, 4],\n",
    "    [10, 10, 10, 10],\n",
    "    [5, 3, 10, 9],\n",
    "    [7, 6, 6, 6],\n",
    "    [7, 7, 8, 7],\n",
    "    [7, 7, 7, 9],\n",
    "    [8, 5, 6, 7],\n",
    "    [10, 9, 7, 4],\n",
    "    [10, 1, 3, 3],\n",
    "]\n",
    "media_aluno = []\n",
    "maior_que_sete = 0\n",
    "\n",
    "for i, nota in enumerate(notas):\n",
    "    media_aluno = sum(nota) / len(notas[i])\n",
    "    print('A média do aluno {} foi {}'.format(alunos[i], media_aluno))\n",
    "    if media_aluno > 7:\n",
    "        maior_que_sete = maior_que_sete + 1\n",
    "print('{} alunos tiveram média maior que 7'.format(maior_que_sete))\n",
    "\n"
   ]
  },
  {
   "cell_type": "markdown",
   "id": "c3068a53",
   "metadata": {
    "id": "c3068a53"
   },
   "source": [
    "#### 3. Foram anotadas as idades e salários de 30 funcionários. Faça um programa que determine quantos funcionários com mais de 25 anos possuem salário inferior à média de todos os salários."
   ]
  },
  {
   "cell_type": "code",
   "execution_count": 31,
   "id": "0308566d",
   "metadata": {
    "id": "0308566d",
    "scrolled": true
   },
   "outputs": [
    {
     "name": "stdout",
     "output_type": "stream",
     "text": [
      "Média salarial é de R$ 3319.80\n",
      "32 2219\n",
      "50 3270\n",
      "49 2384\n",
      "38 2460\n",
      "49 1872\n",
      "48 1770\n",
      "48 3295\n",
      "44 1729\n",
      "42 1916\n",
      "42 2987\n",
      "38 2055\n",
      "35 1730\n",
      "Total de 12 salarios abaixo da média!\n"
     ]
    }
   ],
   "source": [
    "idades = [35,32,50,33,48,50,33,48,22,49,35,38,20,47,49,48,34,21,48,44,48,30,25,42,42,23,25,23,38,35]\n",
    "salarios = [3739,2219,3554,3978,4014,3270,4792,3879,2981,2384,4826,2460,3680,4318,1872,1770,4640,3929,3295,1729,3965,4267,4007,1916,2987,2943,3852,4543,2055,1730]\n",
    "\n",
    "total = 0\n",
    "media_salarial = sum(salarios) / len(salarios)\n",
    "print('Média salarial é de R$ {:.2f}'.format(media_salarial))\n",
    "\n",
    "for i, idade in enumerate(idades):\n",
    "    if idade > 25 and salarios[i] < media_salarial:\n",
    "        total += 1 \n",
    "        print(idades[i], salarios[i])\n",
    "print('Total de {} salarios abaixo da média!'.format(total))\n"
   ]
  },
  {
   "cell_type": "markdown",
   "id": "1611081b",
   "metadata": {
    "id": "1611081b"
   },
   "source": [
    "#### 4.Em quais meses a média de temperatura foi maior do que a média nacional?"
   ]
  },
  {
   "cell_type": "code",
   "execution_count": 72,
   "id": "62f72e2b",
   "metadata": {
    "id": "62f72e2b"
   },
   "outputs": [
    {
     "name": "stdout",
     "output_type": "stream",
     "text": [
      "Meses com temperatura acima da média de 25.8C\n",
      "Janeiro com 30C\n",
      "Fevereiro com 29C\n",
      "Março com 28C\n",
      "Abril com 28C\n",
      "Junho com 26C\n",
      "Novembro com 27C\n",
      "Dezembro com 32C\n"
     ]
    }
   ],
   "source": [
    "meses = [\n",
    "    'Janeiro',\n",
    "    'Fevereiro',\n",
    "    'Março',\n",
    "    'Abril',\n",
    "    'Maio',\n",
    "    'Junho',\n",
    "    'Julho',\n",
    "    'Agosto',\n",
    "    'Setembro',\n",
    "    'Outubro',\n",
    "    'Novembro',\n",
    "    'Dezembro'\n",
    "]\n",
    "\n",
    "temperaturas = [30, 29, 28, 28, 25, 26, 20, 21, 19, 25, 27, 32]\n",
    "\n",
    "media_nacional = sum(temperaturas) / len(temperaturas)\n",
    "meses_maior_temp = []\n",
    "\n",
    "print('Meses com temperatura acima da média de {:.1f}C'.format(media_nacional))\n",
    "\n",
    "for i, temperatura in enumerate(temperaturas):\n",
    "    if temperatura > media_nacional: \n",
    "        #print('Temperatura {}'.format(temperatura))\n",
    "        meses_maior_temp.append(temperaturas[i])\n",
    "        print('{} com {}C'.format(meses[i], temperaturas[i]))"
   ]
  }
 ],
 "metadata": {
  "colab": {
   "provenance": []
  },
  "kernelspec": {
   "display_name": "Python 3 (ipykernel)",
   "language": "python",
   "name": "python3"
  },
  "language_info": {
   "codemirror_mode": {
    "name": "ipython",
    "version": 3
   },
   "file_extension": ".py",
   "mimetype": "text/x-python",
   "name": "python",
   "nbconvert_exporter": "python",
   "pygments_lexer": "ipython3",
   "version": "3.11.5"
  }
 },
 "nbformat": 4,
 "nbformat_minor": 5
}
