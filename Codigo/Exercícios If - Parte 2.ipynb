{
 "cells": [
  {
   "cell_type": "markdown",
   "metadata": {},
   "source": [
    "# Exercícios"
   ]
  },
  {
   "cell_type": "markdown",
   "metadata": {},
   "source": [
    "## 1. Criando um mini sistema de controle de estoque\n",
    "\n",
    "- Crie um sistema para ser usado pelo time de controle de estoque de um centro de distribuição.\n",
    "- Imagine que ao fim de todo dia, o time conta quantas unidades de produto existem no estoque. Se tivermos um estoque abaixo do estoque permitido para aquela categoria do produto, o time deve ser avisado (print) para fazer um novo pedido daquele produto.\n",
    "- Cada categoria de produto tem um estoque mínimo diferente, segundo a regra abaixo:\n",
    "\n",
    "- alimentos -> Estoque mínimo: 50\n",
    "- bebidas -> Estoque mínimo: 75\n",
    "- limpeza -> Estoque mínimo: 30\n",
    "\n",
    "Para isso vamos criar um programa que pede 3 inputs do usuário: nome do produto, categoria e quantidade atual em estoque.\n",
    "\n",
    "Se o produto tiver abaixo do estoque mínimo da categoria dele, o programa deve printar a mensagem \"Solicitar {produto} à equipe de compras, temos apenas {unidades} em estoque\"\n",
    "\n",
    "Exemplo: Se o usuário preenche os inputs com: bebidas, dolly, 90, o programa não deve exibir nenhuma mensagem.<br>\n",
    "Agora, se o usuário preenche os inputs com: bebidas, guaraná, 60, o programa deve exibir a mensagem \"Solicitar guaraná à equipe de compras, temos apenas 60 unidades em estoque.\n",
    "\n",
    "Obs: lembre de usar o int() para transformar o número inserido pelo usuário no input de string para int.<br>\n",
    "Obs2: Caso o usuário não preencha alguma das 3 informações, o programa deve exibir uma mensagem para avisá-lo de preencher corretamente."
   ]
  },
  {
   "cell_type": "code",
   "execution_count": 19,
   "metadata": {},
   "outputs": [
    {
     "name": "stdout",
     "output_type": "stream",
     "text": [
      "Informe o nome do produto: \n",
      "Informe a categoria do produto: \n",
      "Informe a quantidade em estoque do produto: \n",
      "Preencha o produto, a categoria e a quantidade de unidades em estoque!\n"
     ]
    }
   ],
   "source": [
    "#seu código aqui\n",
    "minimo_alimentos = 50\n",
    "minimo_bebidas = 75\n",
    "minimo_limpeza = 30\n",
    "\n",
    "produto = input('Informe o nome do produto: ')\n",
    "categoria = input('Informe a categoria do produto: ')\n",
    "unidades = input('Informe a quantidade em estoque do produto: ')\n",
    "\n",
    "#if produto != '' and categoria != '' and unidades != '':\n",
    "\n",
    "if produto and categoria and unidades:\n",
    "    unidades = int(unidades)\n",
    "    if categoria == 'bebidas' and (unidades < minimo_bebidas):\n",
    "        print(f'Solicitar {produto} à equipe de compras, temos apenas {unidades} em estoque')\n",
    "    if categoria == 'alimentos' and unidades < minimo_alimentos:\n",
    "        print(f'Solicitar {produto} à equipe de compras, temos apenas {unidades} em estoque')\n",
    "    if categoria == 'limpeza' and unidades < minimo_limpeza:\n",
    "        print(f'Solicitar {produto} à equipe de compras, temos apenas {unidades} em estoque')\n",
    "else:\n",
    "    print('Preencha o produto, a categoria e a quantidade de unidades em estoque!')"
   ]
  }
 ],
 "metadata": {
  "kernelspec": {
   "display_name": "Python 3 (ipykernel)",
   "language": "python",
   "name": "python3"
  },
  "language_info": {
   "codemirror_mode": {
    "name": "ipython",
    "version": 3
   },
   "file_extension": ".py",
   "mimetype": "text/x-python",
   "name": "python",
   "nbconvert_exporter": "python",
   "pygments_lexer": "ipython3",
   "version": "3.11.5"
  }
 },
 "nbformat": 4,
 "nbformat_minor": 4
}
