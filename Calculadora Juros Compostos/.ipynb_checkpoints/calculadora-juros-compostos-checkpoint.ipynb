{
 "cells": [
  {
   "cell_type": "markdown",
   "id": "4b2a58d2",
   "metadata": {},
   "source": [
    "# Criando uma calculadora de juros compostos\n",
    "    \n",
    "   Fórmula de juros compostos: valor_final = valor_inicial * (1 + taxa) ** tempo"
   ]
  },
  {
   "cell_type": "code",
   "execution_count": 8,
   "id": "d79ca54f",
   "metadata": {},
   "outputs": [
    {
     "name": "stdout",
     "output_type": "stream",
     "text": [
      "Qual seu nome? Edigar\n",
      "Olá Edigar, seja bem vindo, \n",
      "Informe o valor inicial do investimento: 10000\n",
      "Informe a taxa anual de retorno do seu investimento: 0.75\n",
      "Informe o quantos anos que deixará seu dinheiro investido: 10\n",
      "Ao final desse período você terá R$ 2693893.90!\n"
     ]
    }
   ],
   "source": [
    "nome = input('Qual seu nome? ')\n",
    "print(f'Olá {nome}, seja bem vindo, ')\n",
    "\n",
    "valor_inicial = float(input('Informe o valor inicial do investimento: '))\n",
    "taxa = float(input('Informe a taxa anual de retorno do seu investimento: '))\n",
    "tempo = int(input('Informe o quantos anos que deixará seu dinheiro investido: '))\n",
    "\n",
    "valor_final = valor_inicial * (1 + taxa) ** tempo\n",
    "valor_final = round(valor_final, 2)\n",
    "print(f'Ao final desse período você terá R$ {valor_final:.2f}!')\n"
   ]
  },
  {
   "cell_type": "code",
   "execution_count": null,
   "id": "f832497c",
   "metadata": {},
   "outputs": [],
   "source": []
  }
 ],
 "metadata": {
  "kernelspec": {
   "display_name": "Python 3 (ipykernel)",
   "language": "python",
   "name": "python3"
  },
  "language_info": {
   "codemirror_mode": {
    "name": "ipython",
    "version": 3
   },
   "file_extension": ".py",
   "mimetype": "text/x-python",
   "name": "python",
   "nbconvert_exporter": "python",
   "pygments_lexer": "ipython3",
   "version": "3.11.5"
  }
 },
 "nbformat": 4,
 "nbformat_minor": 5
}
