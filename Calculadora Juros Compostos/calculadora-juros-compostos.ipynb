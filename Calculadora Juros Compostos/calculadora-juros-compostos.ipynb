{
 "cells": [
  {
   "cell_type": "markdown",
   "id": "972263e1",
   "metadata": {},
   "source": [
    "# Criando uma calculadora de juros compostos\n",
    "    \n",
    "   Fórmula de juros compostos: valor_final = valor_inicial * (1 + taxa) ** tempo"
   ]
  },
  {
   "cell_type": "code",
   "execution_count": 12,
   "id": "e32d4557",
   "metadata": {},
   "outputs": [
    {
     "name": "stdout",
     "output_type": "stream",
     "text": [
      "Qual seu nome? Edigar\n",
      "Olá Edigar, seja bem vindo, vamos calcular a sua aposentadoria!\n",
      "Informe o valor inicial do investimento: 10000\n",
      "Informe o quantos meses que deixará seu dinheiro investido: 360\n",
      "Informe em decimal, a taxa mensal de retorno do seu investimento: 0.01\n",
      "Qual valor você consegue aportar por mês? 300\n",
      "Qual salário mensal você quer receber quando se aposentar? 15000\n",
      "--------------------------------------------------------\n",
      "\n",
      "Edigar, ao final desse período você terá R$ 1407686.63!\n",
      "Infelizmente você ainda não pode se aposentar! Com esse montante seu salário mensal seria de apenas R$ 14076.87\n"
     ]
    }
   ],
   "source": [
    "nome = input('Qual seu nome? ')\n",
    "print(f'Olá {nome}, seja bem vindo, vamos calcular a sua aposentadoria!')\n",
    "\n",
    "valor_inicial = float(input('Informe o valor inicial do investimento: '))\n",
    "tempo = int(input('Informe o quantos meses que deixará seu dinheiro investido: '))\n",
    "taxa = float(input('Informe em decimal, a taxa mensal de retorno do seu investimento: '))\n",
    "aporte = float(input('Qual valor você consegue aportar por mês? '))\n",
    "salario_aposentado = float(input('Qual salário mensal você quer receber quando se aposentar? '))\n",
    "\n",
    "tempo_decorrido = 0\n",
    "\n",
    "while tempo_decorrido < tempo:\n",
    "    if tempo_decorrido == 0:\n",
    "        valor_final = valor_inicial * (1 + taxa)\n",
    "        valor_final = round(valor_final, 2)\n",
    "        tempo_decorrido = tempo_decorrido + 1\n",
    "    else:\n",
    "        valor_final = (valor_final + aporte) * (1 + taxa)\n",
    "        valor_final = round(valor_final, 2)\n",
    "        tempo_decorrido = tempo_decorrido + 1\n",
    "        \n",
    "print()        \n",
    "print('--------------------------------------------------------')\n",
    "print()\n",
    "print(f'{nome}, ao final desse período você terá R$ {valor_final} acumulado!')\n",
    "\n",
    "salario_mensal = valor_final * taxa\n",
    "salario_mensal = round(salario_mensal, 2)\n",
    "\n",
    "if salario_mensal >= salario_aposentado:\n",
    "    print(f'Parabéns {nome}! Você já pode se aposentar, seu salário mensal será de {salario_mensal}')\n",
    "    \n",
    "else:\n",
    "    print(f'Infelizmente você ainda não pode se aposentar! Com esse montante seu salário mensal seria de apenas R$ {salario_mensal}')"
   ]
  },
  {
   "cell_type": "code",
   "execution_count": null,
   "id": "d6fe2cbb",
   "metadata": {},
   "outputs": [],
   "source": []
  }
 ],
 "metadata": {
  "kernelspec": {
   "display_name": "Python 3 (ipykernel)",
   "language": "python",
   "name": "python3"
  },
  "language_info": {
   "codemirror_mode": {
    "name": "ipython",
    "version": 3
   },
   "file_extension": ".py",
   "mimetype": "text/x-python",
   "name": "python",
   "nbconvert_exporter": "python",
   "pygments_lexer": "ipython3",
   "version": "3.11.5"
  }
 },
 "nbformat": 4,
 "nbformat_minor": 5
}
